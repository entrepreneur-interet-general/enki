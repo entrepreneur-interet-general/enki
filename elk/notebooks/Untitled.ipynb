{
 "cells": [
  {
   "cell_type": "code",
   "execution_count": 1,
   "metadata": {},
   "outputs": [
    {
     "name": "stdout",
     "output_type": "stream",
     "text": [
      "Requirement already satisfied: elasticsearch in /Users/raphael/anaconda3/lib/python3.6/site-packages (7.9.1)\n",
      "Requirement already satisfied: certifi in /Users/raphael/anaconda3/lib/python3.6/site-packages (from elasticsearch) (2019.9.11)\n",
      "Requirement already satisfied: urllib3>=1.21.1 in /Users/raphael/anaconda3/lib/python3.6/site-packages (from elasticsearch) (1.22)\n",
      "\u001b[33mYou are using pip version 18.1, however version 20.3b1 is available.\n",
      "You should consider upgrading via the 'pip install --upgrade pip' command.\u001b[0m\n"
     ]
    }
   ],
   "source": [
    "!pip install elasticsearch"
   ]
  },
  {
   "cell_type": "code",
   "execution_count": 3,
   "metadata": {},
   "outputs": [],
   "source": [
    "from elasticsearch.client import WatcherClient\n",
    "from elasticsearch import Elasticsearch\n",
    "es = Elasticsearch(http_auth=('elastic', 'changeme'))"
   ]
  },
  {
   "cell_type": "code",
   "execution_count": 4,
   "metadata": {},
   "outputs": [],
   "source": [
    "wc = WatcherClient(es)"
   ]
  },
  {
   "cell_type": "code",
   "execution_count": null,
   "metadata": {},
   "outputs": [],
   "source": [
    "index_name = \"affairs\""
   ]
  },
  {
   "cell_type": "code",
   "execution_count": null,
   "metadata": {},
   "outputs": [],
   "source": [
    "wc.put_watch({\n",
    "  \"metadata\" : { \n",
    "    \"color\" : \"red\"\n",
    "  },\n",
    "  \"trigger\" : { \n",
    "    \"schedule\" : {\n",
    "      \"interval\" : \"1s\"\n",
    "    }\n",
    "  },\n",
    "  \"input\" : { \n",
    "    \"search\" : {\n",
    "      \"request\" : {\n",
    "        \"indices\" : index_name,\n",
    "        \"body\" : {\n",
    "          \"size\" : 0,\n",
    "          \"query\": { \"match_all\": {} }\n",
    "        }\n",
    "      }\n",
    "    }\n",
    "  },\n",
    "  \"actions\" : { \n",
    "    \"my_webhook\" : {\n",
    "      \"webhook\" : {\n",
    "        \"method\" : \"POST\",\n",
    "        \"host\" : \"enki-api\",\n",
    "        \"port\" : 5000,\n",
    "        \"path\" : \"/v1/echanges/elastic-webhook\",\n",
    "      }\n",
    "    },\n",
    "  }\n",
    "})"
   ]
  }
 ],
 "metadata": {
  "kernelspec": {
   "display_name": "Python 3",
   "language": "python",
   "name": "python3"
  },
  "language_info": {
   "codemirror_mode": {
    "name": "ipython",
    "version": 3
   },
   "file_extension": ".py",
   "mimetype": "text/x-python",
   "name": "python",
   "nbconvert_exporter": "python",
   "pygments_lexer": "ipython3",
   "version": "3.6.10"
  }
 },
 "nbformat": 4,
 "nbformat_minor": 2
}
